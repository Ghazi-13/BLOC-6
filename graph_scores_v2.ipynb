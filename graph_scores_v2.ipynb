{
 "cells": [
  {
   "cell_type": "markdown",
   "metadata": {},
   "source": [
    "# PREPROCESSING DATA"
   ]
  },
  {
   "cell_type": "code",
   "execution_count": 6,
   "metadata": {},
   "outputs": [
    {
     "name": "stdout",
     "output_type": "stream",
     "text": [
      "Separating labels from features...\n",
      "...Done.\n",
      "0    1\n",
      "1    0\n",
      "2    0\n",
      "3    0\n",
      "4    0\n",
      "Name: paid, dtype: int64\n",
      "\n",
      "   isMale birthGovernorateTranslate       maritalStatus  detectionConfidence  \\\n",
      "0       1                     Cairo             married             0.716062   \n",
      "1       1                 Kaliobeya             married             0.910078   \n",
      "2       1               Ash Sharqia             married             0.796427   \n",
      "3       1                     Cairo  unknown or widowed             0.923198   \n",
      "4       1                     Cairo  unknown or widowed             0.900118   \n",
      "\n",
      "                 joyLikelihood                underExposedLikelihood  \\\n",
      "0  VERY_UNLIKELY_joyLikelihood  VERY_UNLIKELY_underExposedLikelihood   \n",
      "1  VERY_UNLIKELY_joyLikelihood  VERY_UNLIKELY_underExposedLikelihood   \n",
      "2  VERY_UNLIKELY_joyLikelihood  VERY_UNLIKELY_underExposedLikelihood   \n",
      "3  VERY_UNLIKELY_joyLikelihood  VERY_UNLIKELY_underExposedLikelihood   \n",
      "4         LIKELY_joyLikelihood  VERY_UNLIKELY_underExposedLikelihood   \n",
      "\n",
      "                 blurredLikelihood                headwearLikelihood  amount  \\\n",
      "0  VERY_UNLIKELY_blurredLikelihood       UNLIKELY_headwearLikelihood     500   \n",
      "1  VERY_UNLIKELY_blurredLikelihood  VERY_UNLIKELY_headwearLikelihood     500   \n",
      "2  VERY_UNLIKELY_blurredLikelihood  VERY_UNLIKELY_headwearLikelihood     500   \n",
      "3  VERY_UNLIKELY_blurredLikelihood  VERY_UNLIKELY_headwearLikelihood     500   \n",
      "4  VERY_UNLIKELY_blurredLikelihood  VERY_UNLIKELY_headwearLikelihood     500   \n",
      "\n",
      "   currentFees  ... professions_category mobile_operator location_city  \\\n",
      "0           20  ...            freelance          orange         Cairo   \n",
      "1           60  ...               driver        vodafone         Banha   \n",
      "2           60  ...             employee        vodafone       unknown   \n",
      "3           60  ...                other        vodafone       unknown   \n",
      "4           60  ...            freelance        etisalat       unknown   \n",
      "\n",
      "  nb_loan age proposal_dow  proposal_month nb_people_referred  \\\n",
      "0       1  38            3              12                  0   \n",
      "1       1  27            3              11                  0   \n",
      "2       1  33            2              12                  0   \n",
      "3       1  37            2              12                  0   \n",
      "4       1  23            4              12                  2   \n",
      "\n",
      "   sameBeneaccount  nb_day_creation_proposal  \n",
      "0                0                        58  \n",
      "1                0                         4  \n",
      "2                0                        66  \n",
      "3                0                         1  \n",
      "4                0                        57  \n",
      "\n",
      "[5 rows x 30 columns]\n",
      "\n",
      "Found numeric features  ['isMale', 'detectionConfidence', 'amount', 'currentFees', 'income', 'sdk', 'nbReim', 'nb_loan', 'age', 'proposal_dow', 'proposal_month', 'nb_people_referred', 'sameBeneaccount', 'nb_day_creation_proposal']  at positions  [0, 3, 8, 9, 16, 18, 19, 23, 24, 25, 26, 27, 28, 29]\n",
      "Found categorical features  ['birthGovernorateTranslate', 'maritalStatus', 'joyLikelihood', 'underExposedLikelihood', 'blurredLikelihood', 'headwearLikelihood', 'educationLevelTranslate', 'haveAJob', 'selfEmployed', 'student', 'noIncome', 'purposeTranslate', 'brand', 'professions_category', 'mobile_operator', 'location_city']  at positions  [1, 2, 4, 5, 6, 7, 10, 11, 12, 13, 14, 15, 17, 20, 21, 22]\n",
      "Dividing into train and test sets...\n",
      "...Done.\n",
      "\n",
      "Convert pandas DataFrames to numpy arrays...\n",
      "...Done\n",
      "[[0 'Cairo' 'married' 0.751658 'VERY_LIKELY_joyLikelihood'\n",
      "  'VERY_UNLIKELY_underExposedLikelihood'\n",
      "  'VERY_UNLIKELY_blurredLikelihood' 'POSSIBLE_headwearLikelihood' 500 60\n",
      "  'Primary school' '0.0' '1.0' '0.0' '0.0' 'Education-related expenses'\n",
      "  8000.0 'OPPO' 30.0 0 'other' 'etisalat' 'Shubra al Khayma' 1 29 1 11 0\n",
      "  0 46]\n",
      " [0 'El Beheira' 'married' 0.935644 'UNLIKELY_joyLikelihood'\n",
      "  'VERY_UNLIKELY_underExposedLikelihood'\n",
      "  'VERY_UNLIKELY_blurredLikelihood' 'LIKELY_headwearLikelihood' 500 20\n",
      "  'Masters' '0.0' '1.0' '0.0' '0.0' 'Other / prefer not to say' 15000.0\n",
      "  'OPPO' 29.0 4 'manager' 'we telecom' 'unknown' 1 79 6 12 0 0 7]\n",
      " [0 'El Menia' 'married' 0.804632 'LIKELY_joyLikelihood'\n",
      "  'VERY_UNLIKELY_underExposedLikelihood'\n",
      "  'VERY_UNLIKELY_blurredLikelihood' 'VERY_LIKELY_headwearLikelihood' 500\n",
      "  20 'unkown' 'unkown' 'unkown' 'unkown' 'unkown' 'unkown' 0.0 'Xiaomi'\n",
      "  27.0 3 'employee' 'we telecom' 'Cairo' 1 27 2 12 0 0 5]\n",
      " [0 'Alexandria' 'single' 0.426725 'VERY_LIKELY_joyLikelihood'\n",
      "  'VERY_UNLIKELY_underExposedLikelihood'\n",
      "  'VERY_UNLIKELY_blurredLikelihood' 'POSSIBLE_headwearLikelihood' 500 20\n",
      "  'Some high school' '1.0' '0.0' '0.0' '0.0' 'Medical expenses' 2800.0\n",
      "  'Infinix' 29.0 2 'sales' 'orange' 'unknown' 1 23 3 12 0 0 7]\n",
      " [1 'Giza' 'unknown or widowed' 0.752497 'UNLIKELY_joyLikelihood'\n",
      "  'VERY_UNLIKELY_underExposedLikelihood'\n",
      "  'VERY_UNLIKELY_blurredLikelihood' 'VERY_UNLIKELY_headwearLikelihood'\n",
      "  500 20 'unkown' 'unkown' 'unkown' 'unkown' 'unkown' 'unkown' 0.0\n",
      "  'samsung' 30.0 1 'student' 'we telecom' 'unknown' 1 23 6 12 0 0 1]]\n",
      "[[1 'Cairo' 'married' 0.808795 'VERY_UNLIKELY_joyLikelihood'\n",
      "  'VERY_UNLIKELY_underExposedLikelihood'\n",
      "  'VERY_UNLIKELY_blurredLikelihood' 'VERY_UNLIKELY_headwearLikelihood'\n",
      "  500 20 'Some university' '1.0' '0.0' '0.0' '0.0'\n",
      "  'Other / prefer not to say' 9600.0 'HONOR' 29.0 0 'other' 'vodafone'\n",
      "  'Suez' 1 35 1 11 0 0 14]\n",
      " [1 'Cairo' 'unknown or widowed' 0.803588 'VERY_UNLIKELY_joyLikelihood'\n",
      "  'VERY_UNLIKELY_underExposedLikelihood'\n",
      "  'VERY_UNLIKELY_blurredLikelihood' 'VERY_UNLIKELY_headwearLikelihood'\n",
      "  500 20 'Some high school' '1.0' '0.0' '0.0' '0.0' 'Bill or rent' 2100.0\n",
      "  'realme' 30.0 0 'army, police & security' 'etisalat' 'Cairo' 1 28 2 12\n",
      "  0 0 51]]\n",
      "\n",
      "[0, 1, 1, 1, 1]\n",
      "[1, 1]\n",
      "Encoding categorical features and standardizing numerical features...\n",
      "\n",
      "...Done\n",
      "Encoding labels...\n",
      "...Done\n",
      "<class 'pandas.core.frame.DataFrame'>\n",
      "RangeIndex: 1873 entries, 0 to 1872\n",
      "Data columns (total 31 columns):\n",
      " #   Column                     Non-Null Count  Dtype  \n",
      "---  ------                     --------------  -----  \n",
      " 0   isMale                     1873 non-null   int64  \n",
      " 1   birthGovernorateTranslate  1873 non-null   object \n",
      " 2   maritalStatus              1873 non-null   object \n",
      " 3   detectionConfidence        1873 non-null   float64\n",
      " 4   joyLikelihood              1873 non-null   object \n",
      " 5   underExposedLikelihood     1873 non-null   object \n",
      " 6   blurredLikelihood          1873 non-null   object \n",
      " 7   headwearLikelihood         1873 non-null   object \n",
      " 8   amount                     1873 non-null   int64  \n",
      " 9   currentFees                1873 non-null   int64  \n",
      " 10  educationLevelTranslate    1873 non-null   object \n",
      " 11  haveAJob                   1873 non-null   object \n",
      " 12  selfEmployed               1873 non-null   object \n",
      " 13  student                    1873 non-null   object \n",
      " 14  noIncome                   1873 non-null   object \n",
      " 15  purposeTranslate           1873 non-null   object \n",
      " 16  income                     1873 non-null   float64\n",
      " 17  brand                      1873 non-null   object \n",
      " 18  sdk                        1873 non-null   float64\n",
      " 19  nbReim                     1873 non-null   int64  \n",
      " 20  professions_category       1873 non-null   object \n",
      " 21  mobile_operator            1873 non-null   object \n",
      " 22  paid                       1873 non-null   int64  \n",
      " 23  location_city              1873 non-null   object \n",
      " 24  nb_loan                    1873 non-null   int64  \n",
      " 25  age                        1873 non-null   int64  \n",
      " 26  proposal_dow               1873 non-null   int64  \n",
      " 27  proposal_month             1873 non-null   int64  \n",
      " 28  nb_people_referred         1873 non-null   int64  \n",
      " 29  sameBeneaccount            1873 non-null   int64  \n",
      " 30  nb_day_creation_proposal   1873 non-null   int64  \n",
      "dtypes: float64(3), int64(12), object(16)\n",
      "memory usage: 453.7+ KB\n",
      "Encoding categorical features and standardizing numerical features...\n",
      "...Done\n",
      "Encoding labels...\n",
      "...Done\n"
     ]
    }
   ],
   "source": [
    "import pandas as pd\n",
    "import numpy as np\n",
    "from sklearn.ensemble import RandomForestClassifier\n",
    "from sklearn.model_selection import train_test_split\n",
    "from sklearn.pipeline import Pipeline\n",
    "from sklearn.impute import SimpleImputer\n",
    "from sklearn.preprocessing import  OneHotEncoder, StandardScaler, LabelEncoder\n",
    "from sklearn.compose import ColumnTransformer\n",
    "from sklearn.linear_model import LogisticRegression , LogisticRegressionCV\n",
    "from sklearn.model_selection import GridSearchCV\n",
    "import matplotlib.pyplot as plt\n",
    "from sklearn import  metrics\n",
    "from sklearn.metrics import accuracy_score, roc_auc_score, plot_confusion_matrix, confusion_matrix, f1_score\n",
    "import os\n",
    "import mlflow\n",
    "import warnings\n",
    "warnings.filterwarnings(\"ignore\", category=DeprecationWarning) # to avoid deprecation warnings\n",
    "\n",
    "\n",
    "\n",
    "\n",
    "dataset=pd.read_csv(\"clean_dataset2.csv\")\n",
    "dataset.target.replace([\"paid_with_delay\",\"paid_in_time\"], 1, inplace=True)\n",
    "dataset.target.replace([\"unpaid\"], 0, inplace=True)\n",
    "dataset.rename(columns={\"target\": \"paid\"}, inplace=True)\n",
    "\n",
    "# %%\n",
    "# Separate target variable Y from features X\n",
    "target_name = 'paid'\n",
    "\n",
    "print(\"Separating labels from features...\")\n",
    "Y = dataset.loc[:,target_name]\n",
    "X = dataset.loc[:,[c for c in dataset.columns if c!=target_name]] # All columns are kept, except the target\n",
    "print(\"...Done.\")\n",
    "print(Y.head())\n",
    "print()\n",
    "print(X.head())\n",
    "print()\n",
    "\n",
    "\n",
    "# %%\n",
    "idx = 0\n",
    "numeric_features = []\n",
    "numeric_indices = []\n",
    "categorical_features = []\n",
    "categorical_indices = []\n",
    "for i,t in X.dtypes.iteritems():\n",
    "    if ('float' in str(t)) or ('int' in str(t)) :\n",
    "        numeric_features.append(i)\n",
    "        numeric_indices.append(idx)\n",
    "    else :\n",
    "        categorical_features.append(i)\n",
    "        categorical_indices.append(idx)\n",
    "\n",
    "    idx = idx + 1\n",
    "\n",
    "print('Found numeric features ', numeric_features,' at positions ', numeric_indices)\n",
    "print('Found categorical features ', categorical_features,' at positions ', categorical_indices)\n",
    "\n",
    "# %%\n",
    "dataset.columns\n",
    "\n",
    "# %%\n",
    "# First : always divide dataset into train set & test set !!\n",
    "print(\"Dividing into train and test sets...\")\n",
    "X_train, X_test, Y_train, Y_test = train_test_split(X, Y, test_size=0.3, random_state=1, stratify=Y)\n",
    "# test_size indicates the proportion of rows from X and Y that will go into the test dataset while \n",
    "# maintaining the correspondance between the rows from X and Y \n",
    "\n",
    "# random_state is an argument that can be found in all functions that have a pseudo-random behaviour\n",
    "# if random_state is not stated the function will derive a different random result everytime the cell \n",
    "# runs, if random_state is given a value the results will be the same everytime the cell runs while\n",
    "# each different value of radom_state will derive a specific result\n",
    "print(\"...Done.\")\n",
    "print()\n",
    "\n",
    "# %%\n",
    "# Convert pandas DataFrames to numpy arrays before using scikit-learn\n",
    "print(\"Convert pandas DataFrames to numpy arrays...\")\n",
    "X_train = X_train.values\n",
    "X_test = X_test.values\n",
    "Y_train = Y_train.tolist()\n",
    "Y_test = Y_test.tolist()\n",
    "print(\"...Done\")\n",
    "\n",
    "print(X_train[0:5,:])\n",
    "print(X_test[0:2,:])\n",
    "print()\n",
    "print(Y_train[0:5])\n",
    "print(Y_test[0:2])\n",
    "\n",
    "# %%\n",
    "# Encoding categorical features and standardizing numerical features\n",
    "print(\"Encoding categorical features and standardizing numerical features...\")\n",
    "print()\n",
    "#print(X_train[0:5,:])\n",
    "\n",
    "# Normalization\n",
    "numeric_transformer = StandardScaler()\n",
    "\n",
    "# OHE / dummyfication\n",
    "categorical_transformer = OneHotEncoder()  #use sparse=False for KNNImputer\n",
    "\n",
    "featureencoder = ColumnTransformer(\n",
    "    transformers=[\n",
    "        ('cat', categorical_transformer, categorical_indices),    \n",
    "        ('num', numeric_transformer, numeric_indices)\n",
    "        ]\n",
    "    )\n",
    "\n",
    "X_train = featureencoder.fit_transform(X_train)\n",
    "print(\"...Done\")\n",
    "#print(X_train[0:5,:])\n",
    "\n",
    "# Label encoding\n",
    "print(\"Encoding labels...\")\n",
    "#print(Y_train[0:5])\n",
    "encoder = LabelEncoder()\n",
    "Y_train = encoder.fit_transform(Y_train)\n",
    "print(\"...Done\")\n",
    "#print(Y_train[0:5])\n",
    "\n",
    "\n",
    "#dataset info\n",
    "dataset.info()\n",
    "\n",
    "# %%\n",
    "# Encoding categorical features and standardizing numerical features\n",
    "print(\"Encoding categorical features and standardizing numerical features...\")\n",
    "#print(X_test[0:5,:])\n",
    "X_test = featureencoder.transform(X_test)\n",
    "print(\"...Done\")\n",
    "#print(X_test[0:5,:])\n",
    "\n",
    "# Label encoding\n",
    "print(\"Encoding labels...\")\n",
    "#print(Y_test[0:5])\n",
    "Y_test = encoder.transform(Y_test)\n",
    "print(\"...Done\")\n",
    "#print(Y_test[0:5])\n",
    "\n"
   ]
  },
  {
   "cell_type": "markdown",
   "metadata": {},
   "source": [
    "# MACHINE LEARNING MODEL"
   ]
  },
  {
   "cell_type": "code",
   "execution_count": 7,
   "metadata": {},
   "outputs": [
    {
     "name": "stdout",
     "output_type": "stream",
     "text": [
      "train roc_auc score=: 0.9866725471707678\n",
      "test roc_auc score=: 0.9856008287292818\n",
      "train f1 score=: 0.9818840579710145\n",
      "test f1score=: 0.9846153846153846\n"
     ]
    }
   ],
   "source": [
    "# Specified Parameters \n",
    "params = {'C': [0.05, 0.1, 0.2, 0.3, 0.5, 1, 2], 'penalty': ['l1', 'l2'], 'solver': ['liblinear', 'saga']}\n",
    "\n",
    "# Instanciate and fit the model \n",
    "classifier = LogisticRegression()\n",
    "\n",
    "gridsearch = GridSearchCV(classifier, params, scoring=\"f1\", refit = True, n_jobs=-1, cv=10)# cv : the number of folds to be used for CV\n",
    "gridsearch.fit(X_train, Y_train)\n",
    "\n",
    "\n",
    "#confusion matrix\n",
    "confusion_matrix_train = confusion_matrix(Y_train, (gridsearch.predict(X_train)))\n",
    "confusion_matrix_test = confusion_matrix(Y_test, (gridsearch.predict(X_test)))\n",
    "\n",
    "test_true_negative = confusion_matrix_test[0][0]\n",
    "test_true_positive = confusion_matrix_test[1][1]\n",
    "test_false_positive = confusion_matrix_test[0][1]\n",
    "test_false_negative = confusion_matrix_test[1][0]\n",
    "\n",
    "train_true_negative = confusion_matrix_train[0][0]\n",
    "train_true_positive = confusion_matrix_train[1][1]\n",
    "train_false_positive = confusion_matrix_train[0][1]\n",
    "train_false_negative = confusion_matrix_train[1][0]\n",
    "\n",
    "#score to predict \n",
    "train_score_roc_auc=roc_auc_score(Y_train, gridsearch.predict_proba(X_train)[:,1])\n",
    "test_score_roc_auc=roc_auc_score(Y_test, gridsearch.predict_proba(X_test)[:,1])\n",
    "train_f1_score=f1_score(Y_train, (gridsearch.predict(X_train)), average='binary')\n",
    "test_f1_score=f1_score(Y_test, (gridsearch.predict(X_test)), average='binary')\n",
    "\n",
    "#print score\n",
    "print(\"train roc_auc score=:\",train_score_roc_auc)\n",
    "print(\"test roc_auc score=:\",test_score_roc_auc)\n",
    "print(\"train f1 score=:\",train_f1_score)\n",
    "print(\"test f1score=:\",test_f1_score)"
   ]
  },
  {
   "cell_type": "code",
   "execution_count": 8,
   "metadata": {},
   "outputs": [
    {
     "data": {
      "text/plain": [
       "{'C': 0.05, 'penalty': 'l1', 'solver': 'liblinear'}"
      ]
     },
     "execution_count": 8,
     "metadata": {},
     "output_type": "execute_result"
    }
   ],
   "source": [
    "#get the best parameters\n",
    "gridsearch.best_params_"
   ]
  },
  {
   "cell_type": "code",
   "execution_count": 9,
   "metadata": {},
   "outputs": [
    {
     "data": {
      "text/plain": [
       "LogisticRegression(C=0.05, penalty='l1', solver='liblinear')"
      ]
     },
     "execution_count": 9,
     "metadata": {},
     "output_type": "execute_result"
    }
   ],
   "source": [
    "#initialise a model with best params and fit it\n",
    "lr=LogisticRegression(**gridsearch.best_params_)\n",
    "lr.fit(X_train, Y_train)"
   ]
  },
  {
   "cell_type": "markdown",
   "metadata": {},
   "source": [
    "# FEATURES IMPORTANCE"
   ]
  },
  {
   "cell_type": "code",
   "execution_count": 10,
   "metadata": {},
   "outputs": [
    {
     "name": "stdout",
     "output_type": "stream",
     "text": [
      "coefficients are:  [[ 0.          0.          0.          0.          0.          0.\n",
      "   0.          0.          0.          0.          0.          0.\n",
      "   0.          0.          0.          0.          0.          0.\n",
      "   0.          0.          0.          0.          0.          0.\n",
      "   0.          0.          0.          0.          0.          0.\n",
      "   0.          0.          0.          0.          0.          0.\n",
      "   0.          0.          0.          0.          0.          0.\n",
      "   0.          0.          0.          0.95597951  0.          0.\n",
      "   0.          0.          0.          0.          0.          0.\n",
      "   0.          0.          0.          0.          0.          0.\n",
      "   0.          0.          0.          0.          0.          0.\n",
      "   0.          0.          0.          0.          0.          0.\n",
      "   0.          0.          0.          0.          0.          0.\n",
      "   0.          0.          0.          0.          0.          0.\n",
      "   0.          0.          0.          0.          0.          0.\n",
      "   0.          0.          0.          0.          0.          0.\n",
      "   0.          0.          0.          0.          0.          0.\n",
      "   0.          0.          0.          0.          0.          0.\n",
      "   0.          0.          0.          0.          0.          0.\n",
      "   0.          0.          0.          0.          0.          0.\n",
      "   0.          0.          0.          0.          0.          0.\n",
      "   0.          0.          0.          0.          0.          0.\n",
      "   0.          0.          0.          0.          0.          0.\n",
      "   0.          0.          0.          0.          0.          0.\n",
      "   0.          0.          0.          0.          0.          0.\n",
      "   0.          0.          0.          0.          0.          0.\n",
      "   0.          2.40604915 -4.43871723  0.          0.          0.\n",
      "   2.20922545  0.          0.          0.          0.          0.\n",
      "   0.09171898]]\n",
      "Constant is:  [0.]\n",
      "All transformers are:  [('cat', OneHotEncoder(), [1, 2, 4, 5, 6, 7, 10, 11, 12, 13, 14, 15, 17, 20, 21, 22]), ('num', StandardScaler(), [0, 3, 8, 9, 16, 18, 19, 23, 24, 25, 26, 27, 28, 29])]\n",
      "One Hot Encoder transformer is:  OneHotEncoder()\n",
      "Categorical columns are:  ['Alexandria', 'Ash Sharqia', 'Assiut', 'Aswan', 'Beni Suef', 'Cairo', 'Dakahlia', 'Damietta', 'El Beheira', 'El Menia', 'Fayoum', 'Foreign', 'Gharbia', 'Giza', 'Ismailia', 'Kafr El - Sheikh', 'Kaliobeya', 'Luxor', 'Matrouh', 'Monoufia', 'New Valley', 'North Sinai', 'Port Said', 'Qena', 'Red Sea', 'Sohag', 'South Sinai', 'Suez', 'married', 'single', 'unknown or widowed', 'LIKELY_joyLikelihood', 'POSSIBLE_joyLikelihood', 'UNLIKELY_joyLikelihood', 'VERY_LIKELY_joyLikelihood', 'VERY_UNLIKELY_joyLikelihood', 'LIKELY_underExposedLikelihood', 'POSSIBLE_underExposedLikelihood', 'UNLIKELY_underExposedLikelihood', 'VERY_LIKELY_underExposedLikelihood', 'VERY_UNLIKELY_underExposedLikelihood', 'LIKELY_blurredLikelihood', 'POSSIBLE_blurredLikelihood', 'UNLIKELY_blurredLikelihood', 'VERY_LIKELY_blurredLikelihood', 'VERY_UNLIKELY_blurredLikelihood', 'LIKELY_headwearLikelihood', 'POSSIBLE_headwearLikelihood', 'UNLIKELY_headwearLikelihood', 'VERY_LIKELY_headwearLikelihood', 'VERY_UNLIKELY_headwearLikelihood', 'Masters', 'None', 'Primary school', 'Some high school', 'Some high school ', 'Some university', 'unkown', '0.0', '1.0', 'unkown', '0.0', '1.0', 'unkown', '0.0', '1.0', 'unkown', '0.0', '1.0', 'unkown', 'Bill or rent', 'Education-related expenses', 'Medical expenses', 'Other / prefer not to say', 'Travel-related expenses', 'unkown', 'Blackview', 'HONOR', 'HUAWEI', 'Infinix', 'Itel', 'LAVA', 'Lava', 'Lenovo', 'Nokia', 'OPPO', 'POCO', 'Realme', 'Redmi', 'TCL', 'TECNO', 'Xiaomi', 'benco', 'google', 'htc', 'iQandT', 'other', 'realme', 'samsung', 'unknown', 'vivo', 'xiaomi', 'accountant', 'army, police & security', 'business owner', 'director', 'driver', 'employee', 'engineer', 'freelance', 'head cook', 'manager', 'other', 'sales', 'student', 'supervisor', 'teacher', 'technician', 'unemployed', 'unemployed with educational degree', 'etisalat', 'orange', 'vodafone', 'we telecom', '10th of Ramadan city', 'Al Ismailiya', 'Al-Obour', 'Al-Zaqaziq', 'Alexandria', 'Asyut', 'Banha', 'Cairo', 'Damanhur', 'Damietta', 'El Mahalla El Kubra', 'Faqous', 'Giza', 'Hurghada', 'Kafr El Sheikh', 'Mansoura', 'Mit al Khawli Abd Allah', 'New Cairo City', 'New Damietta', 'Port Said', 'Sadat City', 'Sheikh Zayed City', 'Shibin Al-Kom', 'Shubra al Khayma', 'Sixth of October City', 'Suez', 'Tanta', 'other', 'unknown', 'الابراهيمية', 'قرية القطايع']\n",
      "numerical columns are:  Index(['isMale', 'detectionConfidence', 'amount', 'currentFees', 'income',\n",
      "       'sdk', 'nbReim', 'nb_loan', 'age', 'proposal_dow', 'proposal_month',\n",
      "       'nb_people_referred', 'sameBeneaccount', 'nb_day_creation_proposal'],\n",
      "      dtype='object')\n"
     ]
    },
    {
     "data": {
      "text/plain": [
       "<seaborn.axisgrid.FacetGrid at 0x17fe764ed70>"
      ]
     },
     "execution_count": 10,
     "metadata": {},
     "output_type": "execute_result"
    },
    {
     "data": {
      "image/png": "[encoded data removed]",
      "text/plain": [
       "<Figure size 2880x360 with 1 Axes>"
      ]
     },
     "metadata": {
      "needs_background": "light"
     },
     "output_type": "display_data"
    }
   ],
   "source": [
    "print(\"coefficients are: \", lr.coef_) \n",
    "print(\"Constant is: \", lr.intercept_)\n",
    "\n",
    "# Access transformers from feature_encoder\n",
    "print(\"All transformers are: \", featureencoder.transformers_)\n",
    "\n",
    "# Access one specific transformer\n",
    "print(\"One Hot Encoder transformer is: \", featureencoder.transformers_[0][1])\n",
    "\n",
    "# Print categories\n",
    "categorical_column_names = featureencoder.transformers_[0][1].categories_\n",
    "categorical_column_names_1=[]\n",
    "for i in range (len(categorical_column_names)):\n",
    "    for j in range (len(categorical_column_names[i])):\n",
    "        \n",
    "        categorical_column_names_1.append(categorical_column_names[i][j])\n",
    "\n",
    "\n",
    "\n",
    "categorical_column_names=categorical_column_names_1\n",
    "print(\"Categorical columns are: \", categorical_column_names)\n",
    "\n",
    "numerical_column_names = X.loc[:, numeric_features].columns # using the .columns attribute gives us the name of the column \n",
    "print(\"numerical columns are: \", numerical_column_names)\n",
    "\n",
    "# Append all columns \n",
    "all_column_names = np.append(categorical_column_names, numerical_column_names)\n",
    "all_column_names\n",
    "\n",
    "# Feature importance \n",
    "feature_importance = pd.DataFrame({\n",
    "    \"feature_names\": all_column_names,\n",
    "    \"coefficients\":lr.coef_[0]\n",
    "})\n",
    "\n",
    "feature_importance\n",
    "\n",
    "\n",
    "\n",
    "feature_importance1 = feature_importance.drop(feature_importance[feature_importance.coefficients==0].index)\n",
    "feature_importance1.reset_index(drop=True, inplace=True)\n",
    "feature_importance1.sort_values(by='coefficients', ascending=False, inplace=True)\n",
    "#feature_importance1=feature_importance1.iloc[:6,:]\n",
    "\n",
    "\n",
    "import seaborn as sns\n",
    "\n",
    "# Set coefficient to absolute values to rank features\n",
    "feature_importance1[\"coefficients\"] = feature_importance1[\"coefficients\"].abs()\n",
    "\n",
    "# Visualize ranked features using seaborn\n",
    "sns.catplot(x=\"feature_names\", \n",
    "            y=\"coefficients\", \n",
    "            data=feature_importance1.sort_values(by=\"coefficients\", ascending=False), \n",
    "            kind=\"bar\",\n",
    "            aspect=120/15) # Resize graph"
   ]
  },
  {
   "cell_type": "code",
   "execution_count": 11,
   "metadata": {},
   "outputs": [
    {
     "data": {
      "text/html": [
       "<div>\n",
       "<style scoped>\n",
       "    .dataframe tbody tr th:only-of-type {\n",
       "        vertical-align: middle;\n",
       "    }\n",
       "\n",
       "    .dataframe tbody tr th {\n",
       "        vertical-align: top;\n",
       "    }\n",
       "\n",
       "    .dataframe thead th {\n",
       "        text-align: right;\n",
       "    }\n",
       "</style>\n",
       "<table border=\"1\" class=\"dataframe\">\n",
       "  <thead>\n",
       "    <tr style=\"text-align: right;\">\n",
       "      <th></th>\n",
       "      <th>feature_names</th>\n",
       "      <th>coefficients</th>\n",
       "    </tr>\n",
       "  </thead>\n",
       "  <tbody>\n",
       "    <tr>\n",
       "      <th>2</th>\n",
       "      <td>currentFees</td>\n",
       "      <td>4.438717</td>\n",
       "    </tr>\n",
       "    <tr>\n",
       "      <th>1</th>\n",
       "      <td>amount</td>\n",
       "      <td>2.406049</td>\n",
       "    </tr>\n",
       "    <tr>\n",
       "      <th>3</th>\n",
       "      <td>nb_loan</td>\n",
       "      <td>2.209225</td>\n",
       "    </tr>\n",
       "    <tr>\n",
       "      <th>0</th>\n",
       "      <td>VERY_UNLIKELY_blurredLikelihood</td>\n",
       "      <td>0.955980</td>\n",
       "    </tr>\n",
       "    <tr>\n",
       "      <th>4</th>\n",
       "      <td>nb_day_creation_proposal</td>\n",
       "      <td>0.091719</td>\n",
       "    </tr>\n",
       "  </tbody>\n",
       "</table>\n",
       "</div>"
      ],
      "text/plain": [
       "                     feature_names  coefficients\n",
       "2                      currentFees      4.438717\n",
       "1                           amount      2.406049\n",
       "3                          nb_loan      2.209225\n",
       "0  VERY_UNLIKELY_blurredLikelihood      0.955980\n",
       "4         nb_day_creation_proposal      0.091719"
      ]
     },
     "execution_count": 11,
     "metadata": {},
     "output_type": "execute_result"
    }
   ],
   "source": [
    "feature_importance1.sort_values(\"coefficients\", ascending=False).head(10)"
   ]
  },
  {
   "cell_type": "markdown",
   "metadata": {},
   "source": [
    "# CONFUSION MATRIX"
   ]
  },
  {
   "cell_type": "code",
   "execution_count": 12,
   "metadata": {},
   "outputs": [
    {
     "name": "stderr",
     "output_type": "stream",
     "text": [
      "C:\\Users\\Lenovo\\AppData\\Local\\Packages\\PythonSoftwareFoundation.Python.3.10_qbz5n2kfra8p0\\LocalCache\\local-packages\\Python310\\site-packages\\sklearn\\utils\\deprecation.py:87: FutureWarning: Function plot_confusion_matrix is deprecated; Function `plot_confusion_matrix` is deprecated in 1.0 and will be removed in 1.2. Use one of the class methods: ConfusionMatrixDisplay.from_predictions or ConfusionMatrixDisplay.from_estimator.\n",
      "  warnings.warn(msg, category=FutureWarning)\n"
     ]
    },
    {
     "data": {
      "image/png": "[encoded data removed]",
      "text/plain": [
       "<Figure size 432x288 with 2 Axes>"
      ]
     },
     "metadata": {
      "needs_background": "light"
     },
     "output_type": "display_data"
    }
   ],
   "source": [
    "#train confusion matrix \n",
    "cm = plot_confusion_matrix(gridsearch, X_train, Y_train)"
   ]
  },
  {
   "cell_type": "code",
   "execution_count": 13,
   "metadata": {},
   "outputs": [
    {
     "name": "stderr",
     "output_type": "stream",
     "text": [
      "C:\\Users\\Lenovo\\AppData\\Local\\Packages\\PythonSoftwareFoundation.Python.3.10_qbz5n2kfra8p0\\LocalCache\\local-packages\\Python310\\site-packages\\sklearn\\utils\\deprecation.py:87: FutureWarning: Function plot_confusion_matrix is deprecated; Function `plot_confusion_matrix` is deprecated in 1.0 and will be removed in 1.2. Use one of the class methods: ConfusionMatrixDisplay.from_predictions or ConfusionMatrixDisplay.from_estimator.\n",
      "  warnings.warn(msg, category=FutureWarning)\n"
     ]
    },
    {
     "data": {
      "image/png": "[encoded data removed]",
      "text/plain": [
       "<Figure size 432x288 with 2 Axes>"
      ]
     },
     "metadata": {
      "needs_background": "light"
     },
     "output_type": "display_data"
    }
   ],
   "source": [
    "#test confusion matrix \n",
    "cm = plot_confusion_matrix(gridsearch, X_test, Y_test)"
   ]
  },
  {
   "cell_type": "markdown",
   "metadata": {},
   "source": [
    "# AUC_ROC CURVE"
   ]
  },
  {
   "cell_type": "code",
   "execution_count": 14,
   "metadata": {},
   "outputs": [],
   "source": [
    "import matplotlib.pyplot as plt\n",
    "from sklearn import  metrics"
   ]
  },
  {
   "cell_type": "code",
   "execution_count": 15,
   "metadata": {},
   "outputs": [
    {
     "name": "stderr",
     "output_type": "stream",
     "text": [
      "C:\\Users\\Lenovo\\AppData\\Local\\Packages\\PythonSoftwareFoundation.Python.3.10_qbz5n2kfra8p0\\LocalCache\\local-packages\\Python310\\site-packages\\sklearn\\utils\\deprecation.py:87: FutureWarning: Function plot_roc_curve is deprecated; Function :func:`plot_roc_curve` is deprecated in 1.0 and will be removed in 1.2. Use one of the class methods: :meth:`sklearn.metric.RocCurveDisplay.from_predictions` or :meth:`sklearn.metric.RocCurveDisplay.from_estimator`.\n",
      "  warnings.warn(msg, category=FutureWarning)\n"
     ]
    },
    {
     "data": {
      "image/png": "[encoded data removed]",
      "text/plain": [
       "<Figure size 432x288 with 1 Axes>"
      ]
     },
     "metadata": {
      "needs_background": "light"
     },
     "output_type": "display_data"
    }
   ],
   "source": [
    "#plot train auc_roc curve\n",
    "metrics.plot_roc_curve(gridsearch, X_train, Y_train) \n",
    "plt.show()"
   ]
  },
  {
   "cell_type": "code",
   "execution_count": 16,
   "metadata": {},
   "outputs": [
    {
     "name": "stderr",
     "output_type": "stream",
     "text": [
      "C:\\Users\\Lenovo\\AppData\\Local\\Packages\\PythonSoftwareFoundation.Python.3.10_qbz5n2kfra8p0\\LocalCache\\local-packages\\Python310\\site-packages\\sklearn\\utils\\deprecation.py:87: FutureWarning: Function plot_roc_curve is deprecated; Function :func:`plot_roc_curve` is deprecated in 1.0 and will be removed in 1.2. Use one of the class methods: :meth:`sklearn.metric.RocCurveDisplay.from_predictions` or :meth:`sklearn.metric.RocCurveDisplay.from_estimator`.\n",
      "  warnings.warn(msg, category=FutureWarning)\n"
     ]
    },
    {
     "data": {
      "image/png": "[encoded data removed]",
      "text/plain": [
       "<Figure size 432x288 with 1 Axes>"
      ]
     },
     "metadata": {
      "needs_background": "light"
     },
     "output_type": "display_data"
    }
   ],
   "source": [
    "#plot test auc_roc curve\n",
    "metrics.plot_roc_curve(gridsearch, X_test, Y_test) \n",
    "plt.show()"
   ]
  }
 ],
 "metadata": {
  "interpreter": {
   "hash": "7956fdbd15d0be812d8ed6b2f49d90ba1354734376c529f0a17f734016be0f0b"
  },
  "kernelspec": {
   "display_name": "Python 3.10.3 64-bit (windows store)",
   "language": "python",
   "name": "python3"
  },
  "language_info": {
   "codemirror_mode": {
    "name": "ipython",
    "version": 3
   },
   "file_extension": ".py",
   "mimetype": "text/x-python",
   "name": "python",
   "nbconvert_exporter": "python",
   "pygments_lexer": "ipython3",
   "version": "3.10.5"
  },
  "orig_nbformat": 4
 },
 "nbformat": 4,
 "nbformat_minor": 2
}
